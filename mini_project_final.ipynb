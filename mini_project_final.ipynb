{
  "nbformat": 4,
  "nbformat_minor": 0,
  "metadata": {
    "colab": {
      "provenance": [],
      "collapsed_sections": [
        "0DvAMElVv7wo"
      ]
    },
    "kernelspec": {
      "display_name": "Python 3",
      "language": "python",
      "name": "python3"
    },
    "language_info": {
      "codemirror_mode": {
        "name": "ipython",
        "version": 3
      },
      "file_extension": ".py",
      "mimetype": "text/x-python",
      "name": "python",
      "nbconvert_exporter": "python",
      "pygments_lexer": "ipython3",
      "version": "3.7.4"
    }
  },
  "cells": [
    {
      "cell_type": "markdown",
      "metadata": {
        "id": "FDPCz14pQFdD"
      },
      "source": [
        "# MCAA project\n",
        "By D. Kovac, M. Pariset and Y. Saied"
      ]
    },
    {
      "cell_type": "markdown",
      "metadata": {
        "id": "J7lEHCEwol6d"
      },
      "source": [
        "## 0. Setup"
      ]
    },
    {
      "cell_type": "code",
      "metadata": {
        "id": "97f65SYGHt6P"
      },
      "source": [
        "# !pip install ray"
      ],
      "execution_count": null,
      "outputs": []
    },
    {
      "cell_type": "code",
      "metadata": {
        "id": "BMV_GyHTe-A5"
      },
      "source": [
        "import scipy.stats as st\n",
        "import numpy as np\n",
        "import scipy as sp\n",
        "import matplotlib.pyplot as plt\n",
        "import random\n",
        "import timeit\n",
        "import itertools\n",
        "import math\n",
        "from sklearn.metrics.pairwise import euclidean_distances\n",
        "import ray\n",
        "import pickle as pkl"
      ],
      "execution_count": null,
      "outputs": []
    },
    {
      "cell_type": "markdown",
      "metadata": {
        "id": "wq4Rd80Yol6f"
      },
      "source": [
        "----"
      ]
    },
    {
      "cell_type": "markdown",
      "metadata": {
        "id": "xD38fbp0ol6f"
      },
      "source": [
        "## 1. Cities distributions"
      ]
    },
    {
      "cell_type": "code",
      "metadata": {
        "id": "9_4LNOEAfb6H"
      },
      "source": [
        "class DatasetGenerator(object):\n",
        "  def __init__(self, N=100):\n",
        "    self.N = N\n",
        "    self.x = None\n",
        "    self.v = None\n",
        "    self.refresh()\n",
        "\n",
        "  def refresh(self):\n",
        "    raise Exception(\"undefined\")"
      ],
      "execution_count": null,
      "outputs": []
    },
    {
      "cell_type": "code",
      "metadata": {
        "id": "69EQnzkcgxtb"
      },
      "source": [
        "class G1(DatasetGenerator):\n",
        "  def refresh(self):\n",
        "    self.x = st.uniform().rvs((self.N,2))\n",
        "    self.v = st.uniform().rvs((self.N,))"
      ],
      "execution_count": null,
      "outputs": []
    },
    {
      "cell_type": "code",
      "metadata": {
        "id": "NEPDqCflgzWe"
      },
      "source": [
        "class G2(DatasetGenerator):\n",
        "  def refresh(self):\n",
        "    self.x = st.uniform().rvs((self.N,2))\n",
        "    self.v = np.exp(st.norm(-0.85, 1.3).rvs((self.N,)))"
      ],
      "execution_count": null,
      "outputs": []
    },
    {
      "cell_type": "code",
      "metadata": {
        "id": "sFE88hJ6ol6g"
      },
      "source": [
        "g1 = G1()\n",
        "g2 = G2()"
      ],
      "execution_count": null,
      "outputs": []
    },
    {
      "cell_type": "code",
      "metadata": {
        "id": "kInLLtYXol6g"
      },
      "source": [
        "# g1.refresh()\n",
        "# g2.refresh()"
      ],
      "execution_count": null,
      "outputs": []
    },
    {
      "cell_type": "markdown",
      "metadata": {
        "id": "jWzbcmxfol6g"
      },
      "source": [
        "### Plot distributions"
      ]
    },
    {
      "cell_type": "code",
      "metadata": {
        "id": "SFEbb71dol6h"
      },
      "source": [
        "def plot_distribution(distr):\n",
        "  # Plot a histogram of the v array\n",
        "  plt.hist(distr.v, bins=30)\n",
        "  plt.show()\n",
        "\n",
        "  # plot the position of the points\n",
        "  plt.figure(figsize=(5,5))\n",
        "  plt.scatter(distr.x[:,0], distr.x[:,1])\n",
        "  plt.show()"
      ],
      "execution_count": null,
      "outputs": []
    },
    {
      "cell_type": "code",
      "metadata": {
        "id": "XMgnjtleol6h",
        "outputId": "475fd449-0769-42d4-f138-7cc8b18663b5"
      },
      "source": [
        "plot_distribution(g1)"
      ],
      "execution_count": null,
      "outputs": [
        {
          "output_type": "display_data",
          "data": {
            "image/png": "[encoded data removed]",
            "text/plain": [
              "<Figure size 432x288 with 1 Axes>"
            ]
          },
          "metadata": {
            "tags": [],
            "needs_background": "light"
          }
        },
        {
          "output_type": "display_data",
          "data": {
            "image/png": "[encoded data removed]",
            "text/plain": [
              "<Figure size 360x360 with 1 Axes>"
            ]
          },
          "metadata": {
            "tags": [],
            "needs_background": "light"
          }
        }
      ]
    },
    {
      "cell_type": "markdown",
      "metadata": {
        "id": "UrAwB81ykRCM"
      },
      "source": [
        "---"
      ]
    },
    {
      "cell_type": "markdown",
      "metadata": {
        "id": "GeH_E-MGjHvd"
      },
      "source": [
        "## 2. Metropolis-Hastings"
      ]
    },
    {
      "cell_type": "markdown",
      "metadata": {
        "id": "glsv1skrol6i"
      },
      "source": [
        "#### Specify distribution used"
      ]
    },
    {
      "cell_type": "code",
      "metadata": {
        "id": "kkNxD7kUol6i"
      },
      "source": [
        "x, v = g2.x, g2.v\n",
        "cities=(x, v)"
      ],
      "execution_count": null,
      "outputs": []
    },
    {
      "cell_type": "markdown",
      "metadata": {
        "id": "Q0Gwc2WnHo7R"
      },
      "source": [
        "#### Objective function"
      ]
    },
    {
      "cell_type": "code",
      "metadata": {
        "id": "9Txn5XJaHo7R"
      },
      "source": [
        "# The objective function\n",
        "def f(N, l, x, v):\n",
        "  if x.shape[0] == 0:\n",
        "    return 0\n",
        "  else:\n",
        "    return v.sum() - l * N * np.pi * np.max(np.power(euclidean_distances(x,x), 2)) / 4"
      ],
      "execution_count": null,
      "outputs": []
    },
    {
      "cell_type": "markdown",
      "metadata": {
        "id": "Pj2iS1JfHo7R"
      },
      "source": [
        "#### Types of base chains"
      ]
    },
    {
      "cell_type": "code",
      "metadata": {
        "id": "TARFWdfNHo7R"
      },
      "source": [
        "## Different kinds of chain\n",
        "\n",
        "# Simple random walk chain\n",
        "def simple_chain(initial_state):\n",
        "  city = np.random.randint(0, len(initial_state))\n",
        "  proposed_state = initial_state.copy()\n",
        "  proposed_state[city] =  not proposed_state[city] # Change invert decision on 'city'\n",
        "  return proposed_state\n",
        "\n",
        "# Entirely random walk chain\n",
        "def random_chain(initial_state):\n",
        "  return np.random.choice(a=[False, True], size=(len(initial_state),))\n",
        "\n",
        "def combination_chain(initial_state, convexity_parameter):\n",
        "  \"\"\"\n",
        "  convexity_parameter =1 ==> simple\n",
        "  \"\"\"\n",
        "  return simple_chain(initial_state) if random.uniform(0,1) < convexity_parameter else random_chain(initial_state)"
      ],
      "execution_count": null,
      "outputs": []
    },
    {
      "cell_type": "markdown",
      "metadata": {
        "id": "uCwDmHnJl_qL"
      },
      "source": [
        "### Simulated Annealing implementation"
      ]
    },
    {
      "cell_type": "code",
      "metadata": {
        "id": "sbZXvBgti6_C"
      },
      "source": [
        "# A State is a vector of True and False, indicating the presence (respectively) absence of a city\n",
        "def get_state(state, x, v):\n",
        "  return x[state], v[state]\n",
        "\n",
        "def next_state(l, t, x, v, previous_state, f, chain):\n",
        "  \"\"\"\n",
        "  Adds or removes one city from the state at random\n",
        "  using the Metropolis-Hastings algorithm.\n",
        "\n",
        "  Parameters:\n",
        "  l: lambda\n",
        "  t: temperature\n",
        "  x: list of positions\n",
        "  v: populations (values)\n",
        "  previous_state: previous state\n",
        "  f: objective function\n",
        "  chain: a function that should recieve a state\n",
        "    and propose a new state from a given markov chain\n",
        "\n",
        "  Returns\n",
        "  -------\n",
        "  new_state\n",
        "    the state after this random adjustement.\n",
        "  new_val\n",
        "    the value of the function at 'new_state'\n",
        "  \"\"\"\n",
        "  # Propose a city to change,\n",
        "  # here we pick a 'neighbouring state'\n",
        "  # but it would also be posssible to pick one at random\n",
        "\n",
        "  proposed_state = chain(previous_state)\n",
        "\n",
        "  # Decide whether to accept the proposed state or not\n",
        "  x_initial, v_initial = get_state(previous_state, x, v)\n",
        "  x_proposed, v_proposed = get_state(proposed_state, x, v)\n",
        "\n",
        "  # Sanity check\n",
        "  assert x_proposed.shape[0] == v_proposed.shape[0]\n",
        "\n",
        "  N = x.shape[0]\n",
        "  val_initial = f(N, l, x_initial, v_initial)\n",
        "  val_proposed = f(N, l, x_proposed, v_proposed)\n",
        "\n",
        "  if val_proposed >= val_initial or random.random()<np.exp((val_proposed - val_initial)/t): # the coeff. in the exponent is positive, since we look for the max\n",
        "    new_state, new_val = proposed_state, val_proposed\n",
        "  else:\n",
        "    new_state, new_val = previous_state, val_initial\n",
        "\n",
        "  return new_state, new_val"
      ],
      "execution_count": null,
      "outputs": []
    },
    {
      "cell_type": "code",
      "metadata": {
        "id": "IlYljzJAPmAX"
      },
      "source": [
        "def simulated_annealing(lmb, num_steps, t_initial, objective_f, cities, annealing_strategy, chain=lambda _ : combination_chain(_,1), initial_state=None):\n",
        "  \"\"\"\n",
        "  Runs the Simulated Annealing algorithm, using given initial parameters and annealing strategy\n",
        "\n",
        "  Parameters:\n",
        "  lmb: lambda\n",
        "  num_steps: the number of steps\n",
        "  t_initial: initial temperature\n",
        "  objective_f: the objective function\n",
        "  cities: positions and populations of cities\n",
        "  annealing_strategy: a cooling function (see 'to_cooling()')\n",
        "  chain: a function that receives a state and outputs a new state (base chain)\n",
        "  initial_state: the initial state on the base chain\n",
        "\n",
        "  Returns\n",
        "  -------\n",
        "  best\n",
        "    a dictionary containing:\n",
        "    - \"proposed\": the list of chosen cities which achieves the best value of the objective function\n",
        "     - \"max\": the maximum value of the objective function\n",
        "   value_list\n",
        "     a list containing the value of the objective function at each iteration\n",
        "   temps\n",
        "     a list containing the temperature at each iteration\n",
        "  \"\"\"\n",
        "  x, v = cities\n",
        "  N = len(x)\n",
        "\n",
        "  if initial_state is None:\n",
        "    # The default initial state is selected uniformly at random\n",
        "    initial_state = np.random.choice(a=[False, True], size=(N,))\n",
        "\n",
        "  proposed_state, value = next_state(lmb, t=t_initial, x=x, v=v, f=objective_f,\n",
        "                                   previous_state=initial_state, chain=chain)\n",
        "  value_list = []\n",
        "  max_value= value\n",
        "  value = value\n",
        "  max_proposed_state= initial_state\n",
        "  i = 0\n",
        "  t = t_initial\n",
        "\n",
        "  temps = []\n",
        "\n",
        "  while i<num_steps:\n",
        "    i=i+1\n",
        "    t = annealing_strategy(t_initial, t, i, max_value, value)\n",
        "    proposed_state, value = next_state(lmb, t, x, v, f=objective_f, previous_state=proposed_state, chain=chain)\n",
        "    value_list.append(value)\n",
        "    temps.append(t)\n",
        "\n",
        "    if value>max_value:\n",
        "      max_proposed_state = proposed_state\n",
        "      max_value=value\n",
        "\n",
        "  best = {\"proposed\": max_proposed_state, \"max\": max_value}\n",
        "  return best, value_list, temps"
      ],
      "execution_count": null,
      "outputs": []
    },
    {
      "cell_type": "code",
      "metadata": {
        "id": "xH0C6zqa1h2p"
      },
      "source": [
        "def to_cooling(strategy):\n",
        "  \"\"\"\n",
        "  Transforms a strategy (i.e. a function of: (1) initial_T, (2) current_T, (3) iteration_number and (4) alpha,\n",
        "  returning the new temperature) into full-fledged, possibly adaptive, cooling function.\n",
        "\n",
        "  The cooling function depends on:\n",
        "    (1) T_init: initial temperature\n",
        "    (2) T: current temperature\n",
        "    (3) i: current iteration\n",
        "    (4) past_best: maximum reached so far\n",
        "    (5) current_val: value of the objective function at current state\n",
        "\n",
        "  Parameters:\n",
        "  strategy: one strategy contained in 'annealing' dictionary\n",
        "\n",
        "  Returns\n",
        "  -------\n",
        "  _config_strategy\n",
        "    A constructor of a cooling function (which takes as argument the value of 'alpha')\n",
        "  \"\"\"\n",
        "\n",
        "  # Takes 'alpha' and 'is_adaptive' and returns an actual cooling strategy\n",
        "  def _config_strategy(alpha, is_adaptive=False):\n",
        "    # Actual 'adaptive' cooling strategy\n",
        "    def _adaptive_cooling(T_init, T, i, past_best, current_val):\n",
        "      temp_proposal = strategy(T_init, T, i, alpha)\n",
        "      if current_val != 0:\n",
        "        m_coeff = 1 + past_best / current_val\n",
        "      else:\n",
        "        m_coeff = 1\n",
        "\n",
        "      # Sanity check\n",
        "      assert 1 <= m_coeff and m_coeff <= 2, m_coeff\n",
        "\n",
        "      return m_coeff * temp_proposal\n",
        "\n",
        "    # Actual 'monotonic' cooling strategy\n",
        "    def _non_adaptive_cooling(T_init, T, i, past_best=None, current_val=None):\n",
        "      return strategy(T_init, T, i, alpha)\n",
        "\n",
        "    if is_adaptive:\n",
        "      return _adaptive_cooling\n",
        "    else:\n",
        "      return _non_adaptive_cooling\n",
        "\n",
        "  return _config_strategy"
      ],
      "execution_count": null,
      "outputs": []
    },
    {
      "cell_type": "code",
      "metadata": {
        "id": "yFgB-icMyt9P"
      },
      "source": [
        "# List of available strategies\n",
        "annealing = {\n",
        "    \"exponential\": to_cooling(lambda T_init, T, i, alpha: T_init*np.power(alpha, i)),\n",
        "    \"linear\": to_cooling(lambda T_init, T, i, alpha: T_init  / (i * alpha + 1)),\n",
        "    # See [1]\n",
        "    \"logarithmic\": to_cooling(lambda T_init, T, i, alpha: T_init/(1+alpha*(np.log(1+i)))),\n",
        "    \"quadratic_mult\": to_cooling(lambda T_init, T, i, alpha: T_init/(1+alpha*i*i)),\n",
        "    # from survey paper\n",
        "    \"lundy_mees\": to_cooling(lambda T_init, T, i, alpha: T/(1+alpha*(T))),\n",
        "}"
      ],
      "execution_count": null,
      "outputs": []
    },
    {
      "cell_type": "code",
      "metadata": {
        "id": "0Q_Z4poFy-GY"
      },
      "source": [
        "def generate_init_state(N, inclusion_prob):\n",
        "  \"\"\"\n",
        "  Returns a random initial state, in which each city has a given probability of being selected\n",
        "\n",
        "  Parameters:\n",
        "  N: number of cities\n",
        "  inclusion_prob: probability that any given city is selected\n",
        "\n",
        "  Returns\n",
        "  -------\n",
        "  An initial random state\n",
        "  \"\"\"\n",
        "  return np.random.random(N) < inclusion_prob"
      ],
      "execution_count": null,
      "outputs": []
    },
    {
      "cell_type": "markdown",
      "metadata": {
        "id": "0DvAMElVv7wo"
      },
      "source": [
        "### Testbench"
      ]
    },
    {
      "cell_type": "markdown",
      "metadata": {
        "id": "pbNtDmCC3r6p"
      },
      "source": [
        "#### a. Convex. Empty set of cities"
      ]
    },
    {
      "cell_type": "code",
      "metadata": {
        "id": "LaNvWvrIuulo"
      },
      "source": [
        "# The maximum of this function is attained without any city\n",
        "def f_test_empty(N, l, x, v):\n",
        "  return - v.T @ v"
      ],
      "execution_count": null,
      "outputs": []
    },
    {
      "cell_type": "markdown",
      "metadata": {
        "id": "0tEdHOMl4-Nj"
      },
      "source": [
        "#### b. Convex. Full set of cities"
      ]
    },
    {
      "cell_type": "code",
      "metadata": {
        "id": "783tG1FF5Mtk"
      },
      "source": [
        "# The maximum of this function is attained with all cities\n",
        "def f_test_full(N, l, x, v):\n",
        "  return v.T @ v"
      ],
      "execution_count": null,
      "outputs": []
    },
    {
      "cell_type": "markdown",
      "metadata": {
        "id": "CEK-luq4JXtc"
      },
      "source": [
        "#### c. Non-convex. Isolated hotspots\n",
        "This tests, selects 4 (very distant) cities. The maximum is achieved by selecting those."
      ]
    },
    {
      "cell_type": "code",
      "metadata": {
        "id": "aG4nCs5cKmBZ"
      },
      "source": [
        "# Set the location of cities to use\n",
        "test_cities = cities[0]\n",
        "hotspots_num = 5"
      ],
      "execution_count": null,
      "outputs": []
    },
    {
      "cell_type": "code",
      "metadata": {
        "id": "1pwyOWv3N6wA"
      },
      "source": [
        "cities_by_x = test_cities[np.argsort(test_cities[:,0]),:]\n",
        "cities_by_y = test_cities[np.argsort(test_cities[:,1]),:]"
      ],
      "execution_count": null,
      "outputs": []
    },
    {
      "cell_type": "code",
      "metadata": {
        "id": "3K5hAxG9NxJE"
      },
      "source": [
        "min_x_props = cities_by_x[:4*hotspots_num,:]\n",
        "max_x_props = cities_by_x[-4*hotspots_num:,:]\n",
        "# @Youssef: Changed -+3 to -+4\n",
        "min_y_props = cities_by_y[:4*hotspots_num,:]\n",
        "max_y_props = cities_by_y[-4*hotspots_num:,:]"
      ],
      "execution_count": null,
      "outputs": []
    },
    {
      "cell_type": "code",
      "metadata": {
        "id": "V9KKzmanLpQ2"
      },
      "source": [
        "# Select sparse hotspots\n",
        "hotspots = np.zeros((4, 2))\n",
        "hotspots[0,0] = np.intersect1d(min_x_props[:,0], min_y_props[:,0])[0]\n",
        "hotspots[1,0] = np.intersect1d(min_x_props[:,0], max_y_props[:,0])[0]\n",
        "hotspots[2,0] = np.intersect1d(max_x_props[:,0], min_y_props[:,0])[0]\n",
        "hotspots[3,0] = np.intersect1d(max_x_props[:,0], max_y_props[:,0])[0]"
      ],
      "execution_count": null,
      "outputs": []
    },
    {
      "cell_type": "code",
      "metadata": {
        "id": "IirEaaE2R61u"
      },
      "source": [
        "for i in range(4):\n",
        "  hotspots[i,1] = cities_by_y[np.argmin(np.abs(cities_by_y[:,0] - hotspots[i, 0])), 1]"
      ],
      "execution_count": null,
      "outputs": []
    },
    {
      "cell_type": "code",
      "metadata": {
        "colab": {
          "base_uri": "https://localhost:8080/",
          "height": 320
        },
        "id": "yiS7aH0PJ78K",
        "outputId": "00a7f480-d628-4c1a-f108-77b259299d6d"
      },
      "source": [
        "plt.figure(figsize=(5,5))\n",
        "plt.scatter(cities[0][:, 0], cities[0][:, 1])\n",
        "plt.scatter(hotspots[:,0], hotspots[:,1], color=\"red\", zorder=1)\n",
        "plt.show()"
      ],
      "execution_count": null,
      "outputs": [
        {
          "output_type": "display_data",
          "data": {
            "image/png": "[encoded data removed]",
            "text/plain": [
              "<Figure size 360x360 with 1 Axes>"
            ]
          },
          "metadata": {
            "tags": [],
            "needs_background": "light"
          }
        }
      ]
    },
    {
      "cell_type": "code",
      "metadata": {
        "id": "fRDlD5ErJi8g"
      },
      "source": [
        "def isolated_hotspots(N, l, x, v):\n",
        "  return 10*np.intersect1d(hotspots[:,0], x[:,0]).shape[0]"
      ],
      "execution_count": null,
      "outputs": []
    },
    {
      "cell_type": "code",
      "metadata": {
        "id": "Q1MohOKXUOWx"
      },
      "source": [
        "score_simple = 0\n",
        "hist_simple = []\n",
        "for iters in range(100):\n",
        "  single_res = simulated_annealing(lmb=.003, num_steps=100, t_initial=1e3, objective_f=isolated_hotspots, cities=cities, annealing_strategy=annealing[\"exponential\"](.004), chain=lambda x: combination_chain(x,1))\n",
        "  score_simple += single_res[1][-1]\n",
        "  hist_simple.append(single_res[1])"
      ],
      "execution_count": null,
      "outputs": []
    },
    {
      "cell_type": "code",
      "metadata": {
        "id": "V7Fp6dQVWF6a"
      },
      "source": [
        "score_random = 0\n",
        "hist_random = []\n",
        "for iters in range(100):\n",
        "  single_reg = simulated_annealing(lmb=.003, num_steps=100, t_initial=1e3, objective_f=isolated_hotspots, cities=cities, annealing_strategy=annealing[\"exponential\"](.004), chain=lambda x: combination_chain(x,0))\n",
        "  score_random += single_res[1][-1]\n",
        "  hist_random.append(single_res[1])"
      ],
      "execution_count": null,
      "outputs": []
    },
    {
      "cell_type": "code",
      "metadata": {
        "colab": {
          "base_uri": "https://localhost:8080/"
        },
        "id": "k32H88i_WCGP",
        "outputId": "14182d82-49a1-4cdd-d210-594fe59601a9"
      },
      "source": [
        "score_simple / 100, score_random / 100"
      ],
      "execution_count": null,
      "outputs": [
        {
          "output_type": "execute_result",
          "data": {
            "text/plain": [
              "(32.0, 40.0)"
            ]
          },
          "metadata": {
            "tags": []
          },
          "execution_count": 45
        }
      ]
    },
    {
      "cell_type": "markdown",
      "metadata": {
        "id": "mCWKfvtHy1qa"
      },
      "source": [
        "#### d. Optimal initial temperature & state"
      ]
    },
    {
      "cell_type": "code",
      "metadata": {
        "id": "Hr4X-fK01HTt"
      },
      "source": [
        "def plot_dynamics(values, temperatures):\n",
        "  steps = np.arange(0, len(values), 1)\n",
        "  max_values = np.maximum.accumulate(values)\n",
        "  max_value = max_values[-1]\n",
        "  nearly_max= list(map(lambda x: int(np.absolute(x-max_value)/np.absolute(max_value+0.001)<0.01) ,values))\n",
        "  steps_to_converge= np.argmax(nearly_max)\n",
        "  print(\"steps: %d \\t max: %.3f\" % (steps_to_converge, max_value))\n",
        "\n",
        "  fig, axs = plt.subplots(1, 2, figsize=(15, 6))\n",
        "  axs[0].plot(steps, values)\n",
        "  axs[0].set_xlabel(\"Step\")\n",
        "  axs[0].set_ylabel(\"Value\")\n",
        "  axs[0].set_title(\"Values\")\n",
        "  axs[1].plot(steps, temperatures)\n",
        "  axs[1].set_xscale('log')\n",
        "  axs[1].set_yscale('log')\n",
        "  axs[1].set_xlabel(\"Step\")\n",
        "  axs[1].set_ylabel(\"Temperature\")\n",
        "  axs[1].set_title(\"Temperatures\")\n",
        "  plt.show()"
      ],
      "execution_count": null,
      "outputs": []
    },
    {
      "cell_type": "code",
      "metadata": {
        "id": "ex89OTZD0c-W",
        "scrolled": false
      },
      "source": [
        "_, values, temperatures = simulated_annealing(cities =cities, objective_f=f, lmb=.1,\n",
        "                                              num_steps = 1e5, t_initial=1e2,\n",
        "                                              annealing_strategy=annealing[\"linear\"](0.05),\n",
        "                                              chain=(lambda initial_state : combination_chain(initial_state, 1)),\n",
        "                                              initial_state=generate_init_state(len(cities[1]), .5))"
      ],
      "execution_count": null,
      "outputs": []
    },
    {
      "cell_type": "code",
      "metadata": {
        "colab": {
          "base_uri": "https://localhost:8080/",
          "height": 425
        },
        "id": "QN3fMAjuip7f",
        "scrolled": false,
        "outputId": "2c83dcf0-ed66-40ee-9eec-eaf560e628a0"
      },
      "source": [
        "plot_dynamics(values, temperatures)"
      ],
      "execution_count": null,
      "outputs": [
        {
          "output_type": "stream",
          "text": [
            "steps: 12417 \t max: 74.393\n"
          ],
          "name": "stdout"
        },
        {
          "output_type": "display_data",
          "data": {
            "image/png": "[encoded data removed]",
            "text/plain": [
              "<Figure size 1080x432 with 2 Axes>"
            ]
          },
          "metadata": {
            "tags": [],
            "needs_background": "light"
          }
        }
      ]
    },
    {
      "cell_type": "markdown",
      "metadata": {
        "id": "feARETeXQYa5"
      },
      "source": [
        "###### Samples of manual test to figure out the effect of meta-parameters\n",
        "$\\alpha = 0.05$\n",
        "\n",
        "|lambda | init_state (% of cities) | init_temp | steps | | optimal value | % cities selected| comments |\n",
        "|:-----:|:----:|:----:|:------:|:-----:|:-----:|:------:|:------|\n",
        "|1|10|1e4|5e5||3|10||\n",
        "|1|**0**|1e4|5e5||3|10|zero cities at the beginning is better|\n",
        "|1|0|1e4|**3e5**||3|6|the maximum is reached at the very end|\n",
        "|1|0|**1e3**|3e5||3|6|the maximum is reached faster, before T0 was too high|\n",
        "|1|0|**<1e3**|3e5||-10|-|the temperature is too low|\n",
        "|**.7**|0|1e4|**1e6**||1.5|28||\n",
        "|**.5**|**50**|**1e4**|1e6||7|62||\n",
        "|.5|50|**1e3**|1e6||4|80||\n",
        "|.5|50|**1e4**|1e5||6|58||\n",
        "|**.3**|50|**1e3**|1e5||22|79||\n",
        "|.3|50|**1e2**|1e5||22|89|this low temperature is more than enough|\n",
        "|.1|50|1e2|1e5||42|97||\n"
      ]
    },
    {
      "cell_type": "markdown",
      "metadata": {
        "id": "3sK7edCaHo7Z"
      },
      "source": [
        "### Parallel computation of optimal values\n",
        "Set the right number of **cores** to use, for a better use of your CPU!"
      ]
    },
    {
      "cell_type": "code",
      "metadata": {
        "colab": {
          "base_uri": "https://localhost:8080/"
        },
        "id": "fPP6TSgsHo7a",
        "outputId": "bdb302f9-139c-4296-802d-388132e3f9b8"
      },
      "source": [
        "# Set the number of cores available\n",
        "ray.init(num_cpus=4)"
      ],
      "execution_count": null,
      "outputs": [
        {
          "output_type": "stream",
          "text": [
            "2020-12-13 20:32:36,284\tINFO services.py:1092 -- View the Ray dashboard at \u001b[1m\u001b[32mhttp://127.0.0.1:8265\u001b[39m\u001b[22m\n"
          ],
          "name": "stderr"
        },
        {
          "output_type": "execute_result",
          "data": {
            "text/plain": [
              "{'node_ip_address': '192.168.43.10',\n",
              " 'raylet_ip_address': '192.168.43.10',\n",
              " 'redis_address': '192.168.43.10:6379',\n",
              " 'object_store_address': 'tcp://127.0.0.1:64150',\n",
              " 'raylet_socket_name': 'tcp://127.0.0.1:64452',\n",
              " 'webui_url': '127.0.0.1:8265',\n",
              " 'session_dir': 'C:\\\\Users\\\\Matteo\\\\AppData\\\\Local\\\\Temp\\\\ray\\\\session_2020-12-13_20-32-35_521194_2176',\n",
              " 'metrics_export_port': 63493,\n",
              " 'node_id': '89a7bf9e0ac3414544d538fe78657c7b8a3c2da4'}"
            ]
          },
          "metadata": {
            "tags": []
          },
          "execution_count": 56
        },
        {
          "output_type": "stream",
          "text": [
            "2020-12-13 20:32:38,913\tWARNING worker.py:1091 -- The dashboard on node DESKTOP-GMJ6612 failed with the following error:\n",
            "Traceback (most recent call last):\n",
            "  File \"C:\\Users\\Matteo\\Anaconda3\\lib\\site-packages\\ray\\dashboard\\dashboard.py\", line 962, in <module>\n",
            "    metrics_export_address=metrics_export_address)\n",
            "  File \"C:\\Users\\Matteo\\Anaconda3\\lib\\site-packages\\ray\\dashboard\\dashboard.py\", line 512, in __init__\n",
            "    build_dir = setup_static_dir(self.app)\n",
            "  File \"C:\\Users\\Matteo\\Anaconda3\\lib\\site-packages\\ray\\dashboard\\dashboard.py\", line 411, in setup_static_dir\n",
            "    \"&& npm run build)\", build_dir)\n",
            "FileNotFoundError: [Errno 2] Dashboard build directory not found. If installing from source, please follow the additional steps required to build the dashboard(cd python/ray/dashboard/client && npm ci && npm run build): 'C:\\\\Users\\\\Matteo\\\\Anaconda3\\\\lib\\\\site-packages\\\\ray\\\\dashboard\\\\client/build'\n",
            "\n"
          ],
          "name": "stderr"
        }
      ]
    },
    {
      "cell_type": "code",
      "metadata": {
        "id": "OeLUmQuuIivz"
      },
      "source": [
        "# Use this to shutdown the multithreading system\n",
        "# ray.shutdown()"
      ],
      "execution_count": null,
      "outputs": []
    },
    {
      "cell_type": "code",
      "metadata": {
        "id": "A_MnB42mHo7a"
      },
      "source": [
        "# Repeats the execution of simulated_annealing a 'trials' number of times, and records the best result\n",
        "# returns: [best_cities, maximum], [best_evolution_values], [oscillations_of_max_values]\n",
        "@ray.remote(num_cpus=1)\n",
        "def robust_simulated_annealing(config, trials=1):\n",
        "  \"\"\"\n",
        "  [PARALLELIZABLE]\n",
        "  Run multiple times Simulated Annealing and takes the best value\n",
        "\n",
        "  Parameters:\n",
        "  config: dictionary containing the parameters for SA algorithm\n",
        "  trials: the number of times the algorithm is run\n",
        "\n",
        "  Returns\n",
        "  -------\n",
        "  best\n",
        "    the 'best' dictionary returned by the winning SA repetition\n",
        "  values_hist\n",
        "    the 'values_list' returned by the winning SA repetition\n",
        "  oscillations\n",
        "    the list of maxima (one per repetition)\n",
        "  \"\"\"\n",
        "  # Extract configuration\n",
        "  cities = config[\"cities\"]\n",
        "  f = config[\"objective_f\"]\n",
        "  lmb = config[\"lmb\"]\n",
        "  num_steps = config[\"num_steps\"]\n",
        "  t_initial = config[\"t_initial\"]\n",
        "  annealing_strategy = config[\"annealing_strategy\"]\n",
        "  chain = config[\"chain\"]\n",
        "  initial_state = config[\"initial_state\"]\n",
        "\n",
        "  best, values_hist = None, None\n",
        "\n",
        "  prev_max = -math.inf\n",
        "\n",
        "  # Records all the outcomes (for statistical analysis)\n",
        "  oscillations = []\n",
        "\n",
        "  for i in range(trials):\n",
        "      best_trial, vals_trial, _ = simulated_annealing(\n",
        "          cities=cities,\n",
        "          objective_f=f,\n",
        "          lmb=lmb,\n",
        "          num_steps=num_steps,\n",
        "          t_initial=t_initial,\n",
        "          annealing_strategy=annealing_strategy,\n",
        "          chain=chain,\n",
        "          initial_state=initial_state\n",
        "      )\n",
        "\n",
        "      oscillations.append(best_trial[\"max\"])\n",
        "\n",
        "      if best_trial[\"max\"] > prev_max:\n",
        "          prev_max = best_trial[\"max\"]\n",
        "          best, values_hist = best_trial, vals_trial\n",
        "\n",
        "  return best, values_hist, oscillations"
      ],
      "execution_count": null,
      "outputs": []
    },
    {
      "cell_type": "code",
      "metadata": {
        "id": "NtA-FT91otPw",
        "scrolled": true
      },
      "source": [
        "def find_max_by_lambda(global_config, steps_num_range, init_temp_range):\n",
        "  \"\"\"\n",
        "  Finds the maximum of the 'objective_f' for a given value of lambda. It exploits available multithreading several values\n",
        "  of number of steps and initial temperature\n",
        "\n",
        "  Parameters:\n",
        "  global_config: the configuration of SA algorithm\n",
        "  steps_num_range: the range of 'num_steps' values to explore\n",
        "  init_temp_range: the range of 't_initial' values to explore\n",
        "\n",
        "  Returns\n",
        "  -------\n",
        "  highest_max\n",
        "    the highest maximum found\n",
        "  best_cities\n",
        "    the best configuration of cities found\n",
        "  best_metaparams\n",
        "    a dictionary containing\n",
        "    - num_steps: the number of steps achieving the best result\n",
        "    - t_initial: the initial temperature achieving the best result\n",
        "    - oscillations: the fluctuation of this optimal value (as given by 'robust_simulated_annealing()')\n",
        "  \"\"\"\n",
        "  best_cities = []\n",
        "  highest_max = -math.inf\n",
        "  best_metaparams = {\"num_steps\": 0, \"t_initial\": 0, \"oscillations\": None}\n",
        "\n",
        "  cycle_counter = 0\n",
        "  tot_cycles = len(steps_num_range) * len(init_temp_range)\n",
        "\n",
        "  futures = {}\n",
        "\n",
        "  # Assign computation to different processes (and cores)\n",
        "  for steps_num in steps_num_range:\n",
        "    for init_temp in init_temp_range:\n",
        "      print(\"steps: %d \\t temp: %d\" %(steps_num, init_temp))\n",
        "      cycle_counter += 1\n",
        "\n",
        "      config = global_config.copy()\n",
        "\n",
        "      # Decide initial state of base chain\n",
        "      # We use the all-zero state for high values of lambda\n",
        "      if config[\"lmb\"] >= .5:\n",
        "        init_fraction = 0\n",
        "      else:\n",
        "        init_fraction = 1\n",
        "\n",
        "      # Add initial conditions to the config\n",
        "      config[\"num_steps\"] = steps_num\n",
        "      config[\"t_initial\"] = init_temp\n",
        "      initial_state = generate_init_state(len(cities[1]), init_fraction)\n",
        "      config[\"initial_state\"] = initial_state\n",
        "\n",
        "      futures[cycle_counter] = robust_simulated_annealing.remote(config)\n",
        "\n",
        "  # Collect the results\n",
        "  for cycle in futures:\n",
        "    choices, vals, oscillations = ray.get(futures[cycle])\n",
        "    print(\"\\t max: %.3f \\t \\t (%d/%d)\" % (vals[-1], cycle, tot_cycles))\n",
        "\n",
        "    # Select the \"smallest\" optimal number of steps (if the ranges given as parameters are increasing)\n",
        "    if choices[\"max\"] > highest_max:\n",
        "      highest_max = choices[\"max\"]\n",
        "      best_cities = choices[\"proposed\"]\n",
        "      best_metaparams[\"num_steps\"] = steps_num\n",
        "      best_metaparams[\"t_initial\"] = init_temp\n",
        "      best_metaparams[\"oscillations\"] = oscillations\n",
        "\n",
        "  return highest_max, best_cities, best_metaparams"
      ],
      "execution_count": null,
      "outputs": []
    },
    {
      "cell_type": "code",
      "metadata": {
        "id": "NsDqUBYvustj"
      },
      "source": [
        "# Find a maximum of the objective function for each value in 'lambda_range'\n",
        "# [THREAD AWARE] If you run this function, you enter the world of parallelism (you can have different error messages)\n",
        "#\n",
        "# returns 1) a 2D NumPy array in which every row contains:\n",
        "#            [value_of_lambda, maximum_found, optimal_number_of_steps, optimal_initial_temperature, optimal_values_mean, optimal_values_std]\n",
        "#         2) a list of optimal cities (one configuration for each lambda)\n",
        "def optimal_values(base_config, lambda_range, steps_num_range=np.logspace(5, 6, 3), init_temp_range=np.logspace(3, 4, 3)):\n",
        "  \"\"\"\n",
        "  Finds the maximum of the 'objective_f' for a range of values of lambda. It exploits available multithreading several values\n",
        "  of number of steps and initial temperature\n",
        "\n",
        "  Parameters:\n",
        "  base_config: the configuration of SA algorithm\n",
        "  lambda_range: the range of 'lmb' values for which a maximum is calculated\n",
        "  steps_num_range: the range of 'num_steps' values to explore\n",
        "  init_temp_range: the range of 't_initial' values to explore\n",
        "\n",
        "  Returns\n",
        "  -------\n",
        "  results\n",
        "    a 2D Numpy array containing, for each row,\n",
        "    - the corresponding value of lambda\n",
        "    - the best maximum found\n",
        "    - the optimal number of steps\n",
        "    - the optimal initial temperature\n",
        "    - the mean of optima found (see 'robust_simulated_annealing()')\n",
        "    - the std of optima found (see 'robust_simulated_annealing()')\n",
        "  best_cities\n",
        "    a list containing, for each value of lambda, the best configuration of cities found\n",
        "  \"\"\"\n",
        "  results = np.zeros((len(lambda_range), 6))\n",
        "  optimal_cities = []\n",
        "\n",
        "  # Assign computation to different processes (and cores)\n",
        "  for idx, lmb in enumerate(lambda_range):\n",
        "    task_config = base_config.copy()\n",
        "    task_config[\"lmb\"] = lmb\n",
        "    best_max, best_cities, metaparams = find_max_by_lambda(task_config, steps_num_range=steps_num_range, init_temp_range=init_temp_range)\n",
        "\n",
        "    # Compute mean and std of max value\n",
        "    oscillations = np.array(metaparams[\"oscillations\"])\n",
        "    oscill_mean = oscillations.mean()\n",
        "    oscill_std = oscillations.std()\n",
        "\n",
        "    results[idx, :] = np.array([\n",
        "      lmb,\n",
        "      best_max,\n",
        "      metaparams[\"num_steps\"],\n",
        "      metaparams[\"t_initial\"],\n",
        "      oscill_mean,\n",
        "      oscill_std\n",
        "    ])\n",
        "    optimal_cities.append(best_cities)\n",
        "\n",
        "  return results, optimal_cities"
      ],
      "execution_count": null,
      "outputs": []
    },
    {
      "cell_type": "code",
      "metadata": {
        "id": "OTnHPoZqJLCj"
      },
      "source": [
        "base_config = {\n",
        "    \"cities\": cities,\n",
        "    \"objective_f\": f,\n",
        "    \"annealing_strategy\": annealing[\"linear\"](0.05),\n",
        "    \"chain\": (lambda initial_state : combination_chain(initial_state, 1)),\n",
        "}"
      ],
      "execution_count": null,
      "outputs": []
    },
    {
      "cell_type": "code",
      "metadata": {
        "colab": {
          "base_uri": "https://localhost:8080/"
        },
        "id": "ytsNQgI-y4Dp",
        "scrolled": false,
        "outputId": "2966cf3f-2b49-4cb9-b093-1113c6fd2e4c"
      },
      "source": [
        "# Uncomment this to calculate optimal values\n",
        "# optimal, opt_cities = optimal_values(base_config, np.linspace(0, 1, 20), steps_num_range=np.logspace(5, 6, 3), init_temp_range=np.logspace(4, 5, 3))"
      ],
      "execution_count": null,
      "outputs": [
        {
          "output_type": "stream",
          "text": [
            "steps: 100000 \t temp: 10000\n",
            "\t max: 64.689 \t \t (1/1)\n",
            "steps: 100000 \t temp: 10000\n",
            "\t max: 29.352 \t \t (1/1)\n",
            "steps: 100000 \t temp: 10000\n",
            "\t max: -13.696 \t \t (1/1)\n",
            "steps: 100000 \t temp: 10000\n",
            "\t max: -15.508 \t \t (1/1)\n"
          ],
          "name": "stdout"
        }
      ]
    },
    {
      "cell_type": "markdown",
      "metadata": {
        "id": "vaNDMk68Ho7b"
      },
      "source": [
        "#### Save/Load optimal values"
      ]
    },
    {
      "cell_type": "code",
      "metadata": {
        "id": "uHTlWjsSHo7b"
      },
      "source": [
        "# Also needs to save cities (otherwise data cannot be fully recovered)\n",
        "def save_optimal(filename, cities, optimal, optimal_cities):\n",
        "  with open(filename + \".pkl\", \"wb\") as f:\n",
        "    pkl.dump({\"version\":1, \"cities\": cities, \"optimal\": optimal, \"optimal_cities\": optimal_cities}, file=f)"
      ],
      "execution_count": null,
      "outputs": []
    },
    {
      "cell_type": "code",
      "metadata": {
        "id": "Lg6Cke30Ho7b"
      },
      "source": [
        "def load_optimal(filename):\n",
        "  with open(filename + \".pkl\", \"rb\") as f:\n",
        "    content = pkl.load(f)\n",
        "\n",
        "    if content[\"version\"] == 1:\n",
        "      # Check version correspondence\n",
        "      return content\n",
        "\n",
        "    raise ValueError(\"Version mismatch\")"
      ],
      "execution_count": null,
      "outputs": []
    },
    {
      "cell_type": "code",
      "metadata": {
        "id": "oHnhsHWXol6s"
      },
      "source": [
        "def load_multiple_simulations(basefolder, basename, simulations_num=4):\n",
        "  content = []\n",
        "  for sim in range(simulations_num):\n",
        "    content.append(load_optimal(basefolder + \"/\" + basename + \"_i\" + str(sim)))\n",
        "  return content"
      ],
      "execution_count": null,
      "outputs": []
    },
    {
      "cell_type": "code",
      "metadata": {
        "id": "2fCeDBOPHo7b"
      },
      "source": [
        "# save_optimal(\"complete_g1\", cities, optimal, opt_cities)"
      ],
      "execution_count": null,
      "outputs": []
    },
    {
      "cell_type": "markdown",
      "metadata": {
        "id": "TeY8ST6MHo7b"
      },
      "source": [
        "## 3. Display results"
      ]
    },
    {
      "cell_type": "code",
      "metadata": {
        "id": "yuxkoePaol6t"
      },
      "source": [
        "plt.style.use('seaborn')"
      ],
      "execution_count": null,
      "outputs": []
    },
    {
      "cell_type": "code",
      "metadata": {
        "id": "7XBSwpOxHo7b"
      },
      "source": [
        "def plot_multiple_simulations(simulations):\n",
        "\n",
        "  # Extract optimal values\n",
        "  history_optimal = np.zeros((simulations[0][\"optimal\"].shape[0], len(simulations)))\n",
        "\n",
        "  for idx, simul in enumerate(simulations):\n",
        "    history_optimal[:,idx] = simul[\"optimal\"][:,1]\n",
        "\n",
        "  # Fix the values of lambda\n",
        "  optimal_lambda = simulations[0][\"optimal\"][:,0]\n",
        "  # Calculate the mean\n",
        "  optimal_mean = history_optimal.mean(axis=1)\n",
        "  # Calculate the std\n",
        "  optimal_std = history_optimal.std(axis=1)\n",
        "\n",
        "  print((optimal_std/optimal_mean).shape)\n",
        "\n",
        "  # optimal values (as a function of lambda)\n",
        "  fig, ax1 = plt.subplots()\n",
        "  _, caps, _ = ax1.errorbar(optimal_lambda, optimal_mean, yerr=optimal_std, fmt=\"o\", markersize=5, color=\"orangered\", ecolor=\"orangered\", capsize=5, elinewidth=1, markeredgewidth=1, zorder=10)\n",
        "  ax1.set_title(r\"Empirical average of maxima found on $G_1$\")\n",
        "  ax1.set_xlabel(\"Lambda\")\n",
        "  ax1.set_ylabel(\"Maximum profit\")\n",
        "  for cap in caps:\n",
        "    cap.set_color('orangered')\n",
        "    cap.set_markeredgewidth(1)\n",
        "  # Plot relative error\n",
        "  ax2 = ax1.twinx()\n",
        "  ax2.patch.set_visible(True)\n",
        "  ax2.bar(optimal_lambda, height=100*optimal_std/optimal_mean, width=1/38, label=\"Coefficient of variance\", align=\"center\", color=\"#ffa52dbb\", edgecolor=\"#ffa52d\", zorder=9)\n",
        "  ax2.set_ylim(top=100, bottom=0)\n",
        "  ax2.set_ylabel(\"%\")\n",
        "  ax2.legend()\n",
        "  ax1.grid(False)\n",
        "  ax1.set_zorder(ax2.get_zorder()+1)\n",
        "  ax1.patch.set_visible(False)\n",
        "#   ax1.xaxis.grid(True, zorder=-1)\n",
        "  plt.show()\n",
        "\n",
        "  history_cities_frac = np.zeros((len(simulations[0][\"optimal_cities\"]), len(simulations)))\n",
        "\n",
        "  for idx, simul in enumerate(simulations):\n",
        "    history_cities_frac[:, idx] = [ct.mean() for ct in simul[\"optimal_cities\"]]\n",
        "\n",
        "  history_cities_mean = history_cities_frac.mean(axis=1)\n",
        "  history_cities_std = history_cities_frac.std(axis=1)\n",
        "\n",
        "  # fraction of cities (as a function of lambda)\n",
        "  plt.errorbar(optimal_lambda, 100*history_cities_mean, yerr=100*history_cities_std, fmt=\"s\", color=\"#4c72b0\", ecolor=\"#000000aa\", capsize=5, elinewidth=1, markeredgewidth=1)\n",
        "  plt.title(r\"Fraction of cities chosen for $G_1$\")\n",
        "  plt.xlabel(\"Lambda\")\n",
        "  plt.ylabel(\"%\")\n",
        "  plt.show()"
      ],
      "execution_count": null,
      "outputs": []
    },
    {
      "cell_type": "code",
      "metadata": {
        "id": "dkX36sTgol6t",
        "outputId": "2d2a4ac2-8d30-403c-88e2-2b293261daa6"
      },
      "source": [
        "# Uncomment this to plot the optimal values found before\n",
        "# plot_multiple_simulations([{\"optimal\": optimal, \"optimal_cities\": opt_cities}])"
      ],
      "execution_count": null,
      "outputs": [
        {
          "output_type": "stream",
          "text": [
            "(4,)\n"
          ],
          "name": "stdout"
        },
        {
          "output_type": "display_data",
          "data": {
            "image/png": "[encoded data removed]",
            "text/plain": [
              "<Figure size 576x396 with 2 Axes>"
            ]
          },
          "metadata": {
            "tags": []
          }
        },
        {
          "output_type": "display_data",
          "data": {
            "image/png": "[encoded data removed]",
            "text/plain": [
              "<Figure size 576x396 with 1 Axes>"
            ]
          },
          "metadata": {
            "tags": []
          }
        }
      ]
    },
    {
      "cell_type": "code",
      "metadata": {
        "id": "oI2ce8PNol6t"
      },
      "source": [
        "simulations = load_multiple_simulations(\"simulations\", \"complete_g1\")"
      ],
      "execution_count": null,
      "outputs": []
    },
    {
      "cell_type": "code",
      "metadata": {
        "colab": {
          "base_uri": "https://localhost:8080/",
          "height": 851
        },
        "id": "WNxunsJUHo7b",
        "outputId": "d6179a9f-8106-4a64-8cf4-45d4e7b39a38"
      },
      "source": [
        "plot_multiple_simulations(simulations)"
      ],
      "execution_count": null,
      "outputs": [
        {
          "output_type": "stream",
          "text": [
            "(40,)\n"
          ],
          "name": "stdout"
        },
        {
          "output_type": "display_data",
          "data": {
            "image/png": "[encoded data removed]",
            "text/plain": [
              "<Figure size 576x396 with 2 Axes>"
            ]
          },
          "metadata": {
            "tags": []
          }
        },
        {
          "output_type": "display_data",
          "data": {
            "image/png": "[encoded data removed]",
            "text/plain": [
              "<Figure size 576x396 with 1 Axes>"
            ]
          },
          "metadata": {
            "tags": []
          }
        }
      ]
    },
    {
      "cell_type": "markdown",
      "metadata": {
        "id": "DAtpuX7X_3YL"
      },
      "source": [
        "#### Plot circle around chosen cities"
      ]
    },
    {
      "cell_type": "code",
      "metadata": {
        "colab": {
          "base_uri": "https://localhost:8080/",
          "height": 282
        },
        "id": "RdkfV9SMAtzW",
        "outputId": "89f84dbf-e878-4dd3-8406-e7339dc15a2b"
      },
      "source": [
        "# @Matteo: I guess there were breaking changes (@Youssef, can you fix it?)\n",
        "\n",
        "# plot all cities\n",
        "x1,x2 =cities[0][:, 0], cities[0][:, 1]\n",
        "values = cities[1]\n",
        "\n",
        "fig, ax = plt.subplots(1)\n",
        "ax.scatter(x=x1, y=x2, c=values)\n",
        "\n",
        "# highlight choosen region\n",
        "x = cities[0][maximiser_state]\n",
        "def circle_from_choosen_points(x):\n",
        "  idx1, idx2 = np.unravel_index(np.argmax(euclidean_distances(x,x)) ,euclidean_distances(x,x).shape)\n",
        "  radius = np.max(euclidean_distances(x,x))/2\n",
        "  center = (x[idx1] + x[idx2])/2\n",
        "  return center, radius\n",
        "\n",
        "center, r = circle_from_choosen_points(x)\n",
        "\n",
        "# making sure maximiser is logical\n",
        "def inside_circle(city_loc, center, radius):\n",
        "  return (euclidean_distances([city_loc],[center])-radius)[0][0] <1e-2\n",
        "\n",
        "inside_circle_state =np.array([inside_circle(city_loc, center, r) for city_loc in cities[0] ])\n",
        "print(\"Solution passes the test: \", np.array_equal(maximiser_state,inside_circle_state) )\n",
        "\n",
        "theta = np.linspace(0, 2*np.pi, 100)\n",
        "\n",
        "x1 = r*np.cos(theta) + center[0]\n",
        "x2 = r*np.sin(theta) + center[1]\n",
        "\n",
        "ax.plot(x1, x2)\n",
        "ax.set_aspect(1)\n",
        "\n",
        "plt.grid(linestyle='--')\n",
        "\n",
        "\n"
      ],
      "execution_count": null,
      "outputs": [
        {
          "output_type": "error",
          "ename": "NameError",
          "evalue": "name 'maximiser_state' is not defined",
          "traceback": [
            "\u001b[1;31m---------------------------------------------------------------------------\u001b[0m",
            "\u001b[1;31mNameError\u001b[0m                                 Traceback (most recent call last)",
            "\u001b[1;32m<ipython-input-71-f6b4a876983b>\u001b[0m in \u001b[0;36m<module>\u001b[1;34m\u001b[0m\n\u001b[0;32m      7\u001b[0m \u001b[1;33m\u001b[0m\u001b[0m\n\u001b[0;32m      8\u001b[0m \u001b[1;31m# highlight choosen region\u001b[0m\u001b[1;33m\u001b[0m\u001b[1;33m\u001b[0m\u001b[1;33m\u001b[0m\u001b[0m\n\u001b[1;32m----> 9\u001b[1;33m \u001b[0mx\u001b[0m \u001b[1;33m=\u001b[0m \u001b[0mcities\u001b[0m\u001b[1;33m[\u001b[0m\u001b[1;36m0\u001b[0m\u001b[1;33m]\u001b[0m\u001b[1;33m[\u001b[0m\u001b[0mmaximiser_state\u001b[0m\u001b[1;33m]\u001b[0m\u001b[1;33m\u001b[0m\u001b[1;33m\u001b[0m\u001b[0m\n\u001b[0m\u001b[0;32m     10\u001b[0m \u001b[1;32mdef\u001b[0m \u001b[0mcircle_from_choosen_points\u001b[0m\u001b[1;33m(\u001b[0m\u001b[0mx\u001b[0m\u001b[1;33m)\u001b[0m\u001b[1;33m:\u001b[0m\u001b[1;33m\u001b[0m\u001b[1;33m\u001b[0m\u001b[0m\n\u001b[0;32m     11\u001b[0m   \u001b[0midx1\u001b[0m\u001b[1;33m,\u001b[0m \u001b[0midx2\u001b[0m \u001b[1;33m=\u001b[0m \u001b[0mnp\u001b[0m\u001b[1;33m.\u001b[0m\u001b[0munravel_index\u001b[0m\u001b[1;33m(\u001b[0m\u001b[0mnp\u001b[0m\u001b[1;33m.\u001b[0m\u001b[0margmax\u001b[0m\u001b[1;33m(\u001b[0m\u001b[0meuclidean_distances\u001b[0m\u001b[1;33m(\u001b[0m\u001b[0mx\u001b[0m\u001b[1;33m,\u001b[0m\u001b[0mx\u001b[0m\u001b[1;33m)\u001b[0m\u001b[1;33m)\u001b[0m \u001b[1;33m,\u001b[0m\u001b[0meuclidean_distances\u001b[0m\u001b[1;33m(\u001b[0m\u001b[0mx\u001b[0m\u001b[1;33m,\u001b[0m\u001b[0mx\u001b[0m\u001b[1;33m)\u001b[0m\u001b[1;33m.\u001b[0m\u001b[0mshape\u001b[0m\u001b[1;33m)\u001b[0m\u001b[1;33m\u001b[0m\u001b[1;33m\u001b[0m\u001b[0m\n",
            "\u001b[1;31mNameError\u001b[0m: name 'maximiser_state' is not defined"
          ]
        },
        {
          "output_type": "display_data",
          "data": {
            "image/png": "[encoded data removed]",
            "text/plain": [
              "<Figure size 576x396 with 1 Axes>"
            ]
          },
          "metadata": {
            "tags": []
          }
        }
      ]
    },
    {
      "cell_type": "code",
      "metadata": {
        "id": "YunLPIElol6u"
      },
      "source": [],
      "execution_count": null,
      "outputs": []
    },
    {
      "cell_type": "markdown",
      "metadata": {
        "id": "cFCrXEpvTKXu"
      },
      "source": [
        "## References\n",
        "[1](http://www.scielo.org.mx/pdf/cys/v21n3/1405-5546-cys-21-03-00493.pdf) Logarithmic cooling strategy"
      ]
    },
    {
      "cell_type": "code",
      "metadata": {
        "id": "iv4jPDOkTLyy"
      },
      "source": [],
      "execution_count": null,
      "outputs": []
    }
  ]
}